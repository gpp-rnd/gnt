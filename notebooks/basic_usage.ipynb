{
 "cells": [
  {
   "cell_type": "markdown",
   "metadata": {},
   "source": [
    "## Basic usage"
   ]
  },
  {
   "cell_type": "code",
   "execution_count": 1,
   "metadata": {},
   "outputs": [],
   "source": [
    "import gnt\n",
    "import pandas as pd"
   ]
  },
  {
   "cell_type": "markdown",
   "metadata": {},
   "source": [
    "### Data\n",
    "First, we load data from Najm et al. \"Orthologous CRISPR–Cas9 enzymes for combinatorial genetic screens.\" These data should be in the format: guide 1, guide 2, gene 1, gene 2, followed by different conditions that were screened."
   ]
  },
  {
   "cell_type": "code",
   "execution_count": 2,
   "metadata": {},
   "outputs": [
    {
     "data": {
      "text/html": [
       "<div>\n",
       "<style scoped>\n",
       "    .dataframe tbody tr th:only-of-type {\n",
       "        vertical-align: middle;\n",
       "    }\n",
       "\n",
       "    .dataframe tbody tr th {\n",
       "        vertical-align: top;\n",
       "    }\n",
       "\n",
       "    .dataframe thead th {\n",
       "        text-align: right;\n",
       "    }\n",
       "</style>\n",
       "<table border=\"1\" class=\"dataframe\">\n",
       "  <thead>\n",
       "    <tr style=\"text-align: right;\">\n",
       "      <th></th>\n",
       "      <th>U6 Sequence</th>\n",
       "      <th>H1 Sequence</th>\n",
       "      <th>U6 gene</th>\n",
       "      <th>H1 gene</th>\n",
       "      <th>Day 21_786O</th>\n",
       "      <th>Day 21_A375</th>\n",
       "      <th>Day 21_A549</th>\n",
       "      <th>Day 21_HT29</th>\n",
       "      <th>Day 21_Meljuso</th>\n",
       "      <th>Day 21_OVCAR8</th>\n",
       "    </tr>\n",
       "  </thead>\n",
       "  <tbody>\n",
       "    <tr>\n",
       "      <th>0</th>\n",
       "      <td>AAAGTGGAACTCAGGACATG</td>\n",
       "      <td>AAAAAAAGAGTCGAATGTTTT</td>\n",
       "      <td>HPRT intron</td>\n",
       "      <td>6T</td>\n",
       "      <td>0.421135</td>\n",
       "      <td>0.250043</td>\n",
       "      <td>0.725424</td>\n",
       "      <td>0.635972</td>\n",
       "      <td>0.127104</td>\n",
       "      <td>0.245427</td>\n",
       "    </tr>\n",
       "    <tr>\n",
       "      <th>1</th>\n",
       "      <td>AAAGTGGAACTCAGGACATG</td>\n",
       "      <td>AAAGAGTCCACTCTGCACTTG</td>\n",
       "      <td>HPRT intron</td>\n",
       "      <td>UBC</td>\n",
       "      <td>0.040784</td>\n",
       "      <td>0.125369</td>\n",
       "      <td>0.343278</td>\n",
       "      <td>0.524569</td>\n",
       "      <td>-0.175984</td>\n",
       "      <td>0.371689</td>\n",
       "    </tr>\n",
       "    <tr>\n",
       "      <th>2</th>\n",
       "      <td>AAAGTGGAACTCAGGACATG</td>\n",
       "      <td>AACAGCTCCGTGTACTGAGGC</td>\n",
       "      <td>HPRT intron</td>\n",
       "      <td>CD81</td>\n",
       "      <td>0.711486</td>\n",
       "      <td>0.857567</td>\n",
       "      <td>1.513217</td>\n",
       "      <td>0.970841</td>\n",
       "      <td>0.630948</td>\n",
       "      <td>0.675330</td>\n",
       "    </tr>\n",
       "    <tr>\n",
       "      <th>3</th>\n",
       "      <td>AAAGTGGAACTCAGGACATG</td>\n",
       "      <td>AAGACGAAATTGAAGACGAAG</td>\n",
       "      <td>HPRT intron</td>\n",
       "      <td>CD81</td>\n",
       "      <td>0.451992</td>\n",
       "      <td>0.588394</td>\n",
       "      <td>1.283543</td>\n",
       "      <td>0.771713</td>\n",
       "      <td>0.409791</td>\n",
       "      <td>0.643640</td>\n",
       "    </tr>\n",
       "    <tr>\n",
       "      <th>4</th>\n",
       "      <td>AAAGTGGAACTCAGGACATG</td>\n",
       "      <td>AAGCGTACTGCTCATCATCGT</td>\n",
       "      <td>HPRT intron</td>\n",
       "      <td>HSP90AA1</td>\n",
       "      <td>0.477678</td>\n",
       "      <td>-0.652709</td>\n",
       "      <td>0.442170</td>\n",
       "      <td>0.021827</td>\n",
       "      <td>0.187209</td>\n",
       "      <td>-0.120412</td>\n",
       "    </tr>\n",
       "    <tr>\n",
       "      <th>...</th>\n",
       "      <td>...</td>\n",
       "      <td>...</td>\n",
       "      <td>...</td>\n",
       "      <td>...</td>\n",
       "      <td>...</td>\n",
       "      <td>...</td>\n",
       "      <td>...</td>\n",
       "      <td>...</td>\n",
       "      <td>...</td>\n",
       "      <td>...</td>\n",
       "    </tr>\n",
       "    <tr>\n",
       "      <th>9179</th>\n",
       "      <td>TTCTGACTACAACATCCAGA</td>\n",
       "      <td>TTGCTTTCATTTAATGCTACA</td>\n",
       "      <td>UBB</td>\n",
       "      <td>PARP2</td>\n",
       "      <td>-0.228266</td>\n",
       "      <td>-0.371034</td>\n",
       "      <td>-0.014272</td>\n",
       "      <td>0.570256</td>\n",
       "      <td>-0.437522</td>\n",
       "      <td>-0.717872</td>\n",
       "    </tr>\n",
       "    <tr>\n",
       "      <th>9180</th>\n",
       "      <td>TTCTGACTACAACATCCAGA</td>\n",
       "      <td>TTGGGACGAGTCCTGTGAGAA</td>\n",
       "      <td>UBB</td>\n",
       "      <td>IMPDH1</td>\n",
       "      <td>-0.178963</td>\n",
       "      <td>-0.024237</td>\n",
       "      <td>-0.323317</td>\n",
       "      <td>0.630812</td>\n",
       "      <td>-0.421810</td>\n",
       "      <td>0.197531</td>\n",
       "    </tr>\n",
       "    <tr>\n",
       "      <th>9181</th>\n",
       "      <td>TTCTGACTACAACATCCAGA</td>\n",
       "      <td>TTTAGGAATTGCTGTTGGGAC</td>\n",
       "      <td>UBB</td>\n",
       "      <td>HPRT intron</td>\n",
       "      <td>-0.266031</td>\n",
       "      <td>-0.429865</td>\n",
       "      <td>-0.145153</td>\n",
       "      <td>0.147415</td>\n",
       "      <td>-0.454209</td>\n",
       "      <td>-0.266580</td>\n",
       "    </tr>\n",
       "    <tr>\n",
       "      <th>9182</th>\n",
       "      <td>TTCTGACTACAACATCCAGA</td>\n",
       "      <td>TTTCCATCACTTGGTTGAATA</td>\n",
       "      <td>UBB</td>\n",
       "      <td>BCL2A1</td>\n",
       "      <td>-0.295739</td>\n",
       "      <td>-0.221819</td>\n",
       "      <td>-0.173578</td>\n",
       "      <td>0.231540</td>\n",
       "      <td>-0.430689</td>\n",
       "      <td>-0.377972</td>\n",
       "    </tr>\n",
       "    <tr>\n",
       "      <th>9183</th>\n",
       "      <td>TTCTGACTACAACATCCAGA</td>\n",
       "      <td>TTTGCCTGTGAGGTGGCCGCC</td>\n",
       "      <td>UBB</td>\n",
       "      <td>CD81</td>\n",
       "      <td>-0.001195</td>\n",
       "      <td>0.419874</td>\n",
       "      <td>0.815933</td>\n",
       "      <td>0.678013</td>\n",
       "      <td>0.211364</td>\n",
       "      <td>-0.333385</td>\n",
       "    </tr>\n",
       "  </tbody>\n",
       "</table>\n",
       "<p>9184 rows × 10 columns</p>\n",
       "</div>"
      ],
      "text/plain": [
       "               U6 Sequence            H1 Sequence      U6 gene      H1 gene  \\\n",
       "0     AAAGTGGAACTCAGGACATG  AAAAAAAGAGTCGAATGTTTT  HPRT intron           6T   \n",
       "1     AAAGTGGAACTCAGGACATG  AAAGAGTCCACTCTGCACTTG  HPRT intron          UBC   \n",
       "2     AAAGTGGAACTCAGGACATG  AACAGCTCCGTGTACTGAGGC  HPRT intron         CD81   \n",
       "3     AAAGTGGAACTCAGGACATG  AAGACGAAATTGAAGACGAAG  HPRT intron         CD81   \n",
       "4     AAAGTGGAACTCAGGACATG  AAGCGTACTGCTCATCATCGT  HPRT intron     HSP90AA1   \n",
       "...                    ...                    ...          ...          ...   \n",
       "9179  TTCTGACTACAACATCCAGA  TTGCTTTCATTTAATGCTACA          UBB        PARP2   \n",
       "9180  TTCTGACTACAACATCCAGA  TTGGGACGAGTCCTGTGAGAA          UBB       IMPDH1   \n",
       "9181  TTCTGACTACAACATCCAGA  TTTAGGAATTGCTGTTGGGAC          UBB  HPRT intron   \n",
       "9182  TTCTGACTACAACATCCAGA  TTTCCATCACTTGGTTGAATA          UBB       BCL2A1   \n",
       "9183  TTCTGACTACAACATCCAGA  TTTGCCTGTGAGGTGGCCGCC          UBB         CD81   \n",
       "\n",
       "      Day 21_786O  Day 21_A375  Day 21_A549  Day 21_HT29  Day 21_Meljuso  \\\n",
       "0        0.421135     0.250043     0.725424     0.635972        0.127104   \n",
       "1        0.040784     0.125369     0.343278     0.524569       -0.175984   \n",
       "2        0.711486     0.857567     1.513217     0.970841        0.630948   \n",
       "3        0.451992     0.588394     1.283543     0.771713        0.409791   \n",
       "4        0.477678    -0.652709     0.442170     0.021827        0.187209   \n",
       "...           ...          ...          ...          ...             ...   \n",
       "9179    -0.228266    -0.371034    -0.014272     0.570256       -0.437522   \n",
       "9180    -0.178963    -0.024237    -0.323317     0.630812       -0.421810   \n",
       "9181    -0.266031    -0.429865    -0.145153     0.147415       -0.454209   \n",
       "9182    -0.295739    -0.221819    -0.173578     0.231540       -0.430689   \n",
       "9183    -0.001195     0.419874     0.815933     0.678013        0.211364   \n",
       "\n",
       "      Day 21_OVCAR8  \n",
       "0          0.245427  \n",
       "1          0.371689  \n",
       "2          0.675330  \n",
       "3          0.643640  \n",
       "4         -0.120412  \n",
       "...             ...  \n",
       "9179      -0.717872  \n",
       "9180       0.197531  \n",
       "9181      -0.266580  \n",
       "9182      -0.377972  \n",
       "9183      -0.333385  \n",
       "\n",
       "[9184 rows x 10 columns]"
      ]
     },
     "execution_count": 2,
     "metadata": {},
     "output_type": "execute_result"
    }
   ],
   "source": [
    "lfcs = pd.read_csv('https://raw.githubusercontent.com/PeterDeWeirdt/bigpapi/master/data/processed/bigpapi_lfcs.csv')\n",
    "lfcs"
   ]
  },
  {
   "cell_type": "markdown",
   "metadata": {},
   "source": [
    "### Calculating residuals\n",
    "From the log fold changes, we calculate **residuals** at the guide level. We reason that interactors for a given “anchor” guide deviates from the expected range of LFCs of its “target” pairs. We fit a linear model between the median LFC of targets paired with controls and the average LFC of constructs with both an anchor and target guide. Negative residuals from this line indicate a synthetic lethal relationship, whereas positive residuals represent a buffering interaction. "
   ]
  },
  {
   "cell_type": "code",
   "execution_count": 3,
   "metadata": {},
   "outputs": [
    {
     "ename": "KeyboardInterrupt",
     "evalue": "",
     "output_type": "error",
     "traceback": [
      "\u001b[0;31m---------------------------------------------------------------------------\u001b[0m",
      "\u001b[0;31mKeyboardInterrupt\u001b[0m                         Traceback (most recent call last)",
      "\u001b[0;32m<ipython-input-3-6bf64d19ac3f>\u001b[0m in \u001b[0;36m<module>\u001b[0;34m\u001b[0m\n\u001b[0;32m----> 1\u001b[0;31m \u001b[0mguide_residuals\u001b[0m\u001b[0;34m,\u001b[0m \u001b[0mmodel_info\u001b[0m \u001b[0;34m=\u001b[0m \u001b[0mgnt\u001b[0m\u001b[0;34m.\u001b[0m\u001b[0mget_guide_residuals\u001b[0m\u001b[0;34m(\u001b[0m\u001b[0mlfcs\u001b[0m\u001b[0;34m,\u001b[0m \u001b[0;34m[\u001b[0m\u001b[0;34m'CD81'\u001b[0m\u001b[0;34m,\u001b[0m \u001b[0;34m'HPRT intron'\u001b[0m\u001b[0;34m]\u001b[0m\u001b[0;34m)\u001b[0m\u001b[0;34m\u001b[0m\u001b[0;34m\u001b[0m\u001b[0m\n\u001b[0m\u001b[1;32m      2\u001b[0m \u001b[0mguide_residuals\u001b[0m\u001b[0;34m.\u001b[0m\u001b[0msort_values\u001b[0m\u001b[0;34m(\u001b[0m\u001b[0;34m'residual_z'\u001b[0m\u001b[0;34m)\u001b[0m\u001b[0;34m\u001b[0m\u001b[0;34m\u001b[0m\u001b[0m\n",
      "\u001b[0;32m~/Documents/gnt/gnt/score.py\u001b[0m in \u001b[0;36mget_guide_residuals\u001b[0;34m(lfc_df, ctl_genes, fit_genes, min_pairs, model)\u001b[0m\n\u001b[1;32m    552\u001b[0m     \u001b[0mcheck_guide_input\u001b[0m\u001b[0;34m(\u001b[0m\u001b[0mlfc_df\u001b[0m\u001b[0;34m)\u001b[0m\u001b[0;34m\u001b[0m\u001b[0;34m\u001b[0m\u001b[0m\n\u001b[1;32m    553\u001b[0m     \u001b[0mmelted_lfc_df\u001b[0m \u001b[0;34m=\u001b[0m \u001b[0mmelt_df\u001b[0m\u001b[0;34m(\u001b[0m\u001b[0mlfc_df\u001b[0m\u001b[0;34m)\u001b[0m\u001b[0;34m\u001b[0m\u001b[0;34m\u001b[0m\u001b[0m\n\u001b[0;32m--> 554\u001b[0;31m     \u001b[0mreordered_guides\u001b[0m \u001b[0;34m=\u001b[0m \u001b[0morder_cols_with_meta\u001b[0m\u001b[0;34m(\u001b[0m\u001b[0mmelted_lfc_df\u001b[0m\u001b[0;34m,\u001b[0m \u001b[0;34m[\u001b[0m\u001b[0;36m0\u001b[0m\u001b[0;34m,\u001b[0m \u001b[0;36m1\u001b[0m\u001b[0;34m]\u001b[0m\u001b[0;34m,\u001b[0m \u001b[0;34m[\u001b[0m\u001b[0;36m2\u001b[0m\u001b[0;34m,\u001b[0m \u001b[0;36m3\u001b[0m\u001b[0;34m]\u001b[0m\u001b[0;34m,\u001b[0m \u001b[0;34m'guide'\u001b[0m\u001b[0;34m,\u001b[0m \u001b[0;34m'gene'\u001b[0m\u001b[0;34m)\u001b[0m\u001b[0;34m\u001b[0m\u001b[0;34m\u001b[0m\u001b[0m\n\u001b[0m\u001b[1;32m    555\u001b[0m     \u001b[0mdedup_guide_lfcs\u001b[0m \u001b[0;34m=\u001b[0m \u001b[0maggregate_guide_lfcs\u001b[0m\u001b[0;34m(\u001b[0m\u001b[0mreordered_guides\u001b[0m\u001b[0;34m)\u001b[0m\u001b[0;34m\u001b[0m\u001b[0;34m\u001b[0m\u001b[0m\n\u001b[1;32m    556\u001b[0m     \u001b[0mmelted_anchor_df\u001b[0m \u001b[0;34m=\u001b[0m \u001b[0mbuild_anchor_df\u001b[0m\u001b[0;34m(\u001b[0m\u001b[0mdedup_guide_lfcs\u001b[0m\u001b[0;34m)\u001b[0m\u001b[0;34m\u001b[0m\u001b[0;34m\u001b[0m\u001b[0m\n",
      "\u001b[0;32m~/Documents/gnt/gnt/score.py\u001b[0m in \u001b[0;36morder_cols_with_meta\u001b[0;34m(df, cols, meta_cols, col_name, meta_name)\u001b[0m\n\u001b[1;32m    113\u001b[0m     four_col_df[col_name + '_b'] = four_col_df.apply(lambda row: (row[col2] if row[col1] <= row[col2]\n\u001b[1;32m    114\u001b[0m                                                                   else row[col1]), axis=1)\n\u001b[0;32m--> 115\u001b[0;31m     four_col_df[col_name + '_b_' + meta_name] = four_col_df.apply(lambda row: (row[meta_col2] if row[col1] <= row[col2]\n\u001b[0m\u001b[1;32m    116\u001b[0m                                                                   else row[meta_col1]), axis=1)\n\u001b[1;32m    117\u001b[0m     \u001b[0mordered_df\u001b[0m \u001b[0;34m=\u001b[0m \u001b[0mdf\u001b[0m\u001b[0;34m.\u001b[0m\u001b[0mmerge\u001b[0m\u001b[0;34m(\u001b[0m\u001b[0mfour_col_df\u001b[0m\u001b[0;34m,\u001b[0m \u001b[0mhow\u001b[0m\u001b[0;34m=\u001b[0m\u001b[0;34m'inner'\u001b[0m\u001b[0;34m,\u001b[0m \u001b[0mon\u001b[0m\u001b[0;34m=\u001b[0m\u001b[0;34m[\u001b[0m\u001b[0mcol1\u001b[0m\u001b[0;34m,\u001b[0m \u001b[0mmeta_col1\u001b[0m\u001b[0;34m,\u001b[0m \u001b[0mcol2\u001b[0m\u001b[0;34m,\u001b[0m \u001b[0mmeta_col2\u001b[0m\u001b[0;34m]\u001b[0m\u001b[0;34m)\u001b[0m\u001b[0;34m\u001b[0m\u001b[0;34m\u001b[0m\u001b[0m\n",
      "\u001b[0;32m~/.local/share/virtualenvs/gnt-6jdCXtXx/lib/python3.8/site-packages/pandas/core/frame.py\u001b[0m in \u001b[0;36mapply\u001b[0;34m(self, func, axis, raw, result_type, args, **kwds)\u001b[0m\n\u001b[1;32m   6876\u001b[0m             \u001b[0mkwds\u001b[0m\u001b[0;34m=\u001b[0m\u001b[0mkwds\u001b[0m\u001b[0;34m,\u001b[0m\u001b[0;34m\u001b[0m\u001b[0;34m\u001b[0m\u001b[0m\n\u001b[1;32m   6877\u001b[0m         )\n\u001b[0;32m-> 6878\u001b[0;31m         \u001b[0;32mreturn\u001b[0m \u001b[0mop\u001b[0m\u001b[0;34m.\u001b[0m\u001b[0mget_result\u001b[0m\u001b[0;34m(\u001b[0m\u001b[0;34m)\u001b[0m\u001b[0;34m\u001b[0m\u001b[0;34m\u001b[0m\u001b[0m\n\u001b[0m\u001b[1;32m   6879\u001b[0m \u001b[0;34m\u001b[0m\u001b[0m\n\u001b[1;32m   6880\u001b[0m     \u001b[0;32mdef\u001b[0m \u001b[0mapplymap\u001b[0m\u001b[0;34m(\u001b[0m\u001b[0mself\u001b[0m\u001b[0;34m,\u001b[0m \u001b[0mfunc\u001b[0m\u001b[0;34m)\u001b[0m \u001b[0;34m->\u001b[0m \u001b[0;34m\"DataFrame\"\u001b[0m\u001b[0;34m:\u001b[0m\u001b[0;34m\u001b[0m\u001b[0;34m\u001b[0m\u001b[0m\n",
      "\u001b[0;32m~/.local/share/virtualenvs/gnt-6jdCXtXx/lib/python3.8/site-packages/pandas/core/apply.py\u001b[0m in \u001b[0;36mget_result\u001b[0;34m(self)\u001b[0m\n\u001b[1;32m    184\u001b[0m             \u001b[0;32mreturn\u001b[0m \u001b[0mself\u001b[0m\u001b[0;34m.\u001b[0m\u001b[0mapply_raw\u001b[0m\u001b[0;34m(\u001b[0m\u001b[0;34m)\u001b[0m\u001b[0;34m\u001b[0m\u001b[0;34m\u001b[0m\u001b[0m\n\u001b[1;32m    185\u001b[0m \u001b[0;34m\u001b[0m\u001b[0m\n\u001b[0;32m--> 186\u001b[0;31m         \u001b[0;32mreturn\u001b[0m \u001b[0mself\u001b[0m\u001b[0;34m.\u001b[0m\u001b[0mapply_standard\u001b[0m\u001b[0;34m(\u001b[0m\u001b[0;34m)\u001b[0m\u001b[0;34m\u001b[0m\u001b[0;34m\u001b[0m\u001b[0m\n\u001b[0m\u001b[1;32m    187\u001b[0m \u001b[0;34m\u001b[0m\u001b[0m\n\u001b[1;32m    188\u001b[0m     \u001b[0;32mdef\u001b[0m \u001b[0mapply_empty_result\u001b[0m\u001b[0;34m(\u001b[0m\u001b[0mself\u001b[0m\u001b[0;34m)\u001b[0m\u001b[0;34m:\u001b[0m\u001b[0;34m\u001b[0m\u001b[0;34m\u001b[0m\u001b[0m\n",
      "\u001b[0;32m~/.local/share/virtualenvs/gnt-6jdCXtXx/lib/python3.8/site-packages/pandas/core/apply.py\u001b[0m in \u001b[0;36mapply_standard\u001b[0;34m(self)\u001b[0m\n\u001b[1;32m    293\u001b[0m \u001b[0;34m\u001b[0m\u001b[0m\n\u001b[1;32m    294\u001b[0m             \u001b[0;32mtry\u001b[0m\u001b[0;34m:\u001b[0m\u001b[0;34m\u001b[0m\u001b[0;34m\u001b[0m\u001b[0m\n\u001b[0;32m--> 295\u001b[0;31m                 result = libreduction.compute_reduction(\n\u001b[0m\u001b[1;32m    296\u001b[0m                     \u001b[0mvalues\u001b[0m\u001b[0;34m,\u001b[0m \u001b[0mself\u001b[0m\u001b[0;34m.\u001b[0m\u001b[0mf\u001b[0m\u001b[0;34m,\u001b[0m \u001b[0maxis\u001b[0m\u001b[0;34m=\u001b[0m\u001b[0mself\u001b[0m\u001b[0;34m.\u001b[0m\u001b[0maxis\u001b[0m\u001b[0;34m,\u001b[0m \u001b[0mdummy\u001b[0m\u001b[0;34m=\u001b[0m\u001b[0mdummy\u001b[0m\u001b[0;34m,\u001b[0m \u001b[0mlabels\u001b[0m\u001b[0;34m=\u001b[0m\u001b[0mlabels\u001b[0m\u001b[0;34m\u001b[0m\u001b[0;34m\u001b[0m\u001b[0m\n\u001b[1;32m    297\u001b[0m                 )\n",
      "\u001b[0;32mpandas/_libs/reduction.pyx\u001b[0m in \u001b[0;36mpandas._libs.reduction.compute_reduction\u001b[0;34m()\u001b[0m\n",
      "\u001b[0;32mpandas/_libs/reduction.pyx\u001b[0m in \u001b[0;36mpandas._libs.reduction.Reducer.get_result\u001b[0;34m()\u001b[0m\n",
      "\u001b[0;32m~/Documents/gnt/gnt/score.py\u001b[0m in \u001b[0;36m<lambda>\u001b[0;34m(row)\u001b[0m\n\u001b[1;32m    114\u001b[0m                                                                   else row[col1]), axis=1)\n\u001b[1;32m    115\u001b[0m     four_col_df[col_name + '_b_' + meta_name] = four_col_df.apply(lambda row: (row[meta_col2] if row[col1] <= row[col2]\n\u001b[0;32m--> 116\u001b[0;31m                                                                   else row[meta_col1]), axis=1)\n\u001b[0m\u001b[1;32m    117\u001b[0m     \u001b[0mordered_df\u001b[0m \u001b[0;34m=\u001b[0m \u001b[0mdf\u001b[0m\u001b[0;34m.\u001b[0m\u001b[0mmerge\u001b[0m\u001b[0;34m(\u001b[0m\u001b[0mfour_col_df\u001b[0m\u001b[0;34m,\u001b[0m \u001b[0mhow\u001b[0m\u001b[0;34m=\u001b[0m\u001b[0;34m'inner'\u001b[0m\u001b[0;34m,\u001b[0m \u001b[0mon\u001b[0m\u001b[0;34m=\u001b[0m\u001b[0;34m[\u001b[0m\u001b[0mcol1\u001b[0m\u001b[0;34m,\u001b[0m \u001b[0mmeta_col1\u001b[0m\u001b[0;34m,\u001b[0m \u001b[0mcol2\u001b[0m\u001b[0;34m,\u001b[0m \u001b[0mmeta_col2\u001b[0m\u001b[0;34m]\u001b[0m\u001b[0;34m)\u001b[0m\u001b[0;34m\u001b[0m\u001b[0;34m\u001b[0m\u001b[0m\n\u001b[1;32m    118\u001b[0m     \u001b[0;32mreturn\u001b[0m \u001b[0mordered_df\u001b[0m\u001b[0;34m\u001b[0m\u001b[0;34m\u001b[0m\u001b[0m\n",
      "\u001b[0;32m~/.local/share/virtualenvs/gnt-6jdCXtXx/lib/python3.8/site-packages/pandas/core/series.py\u001b[0m in \u001b[0;36m__getitem__\u001b[0;34m(self, key)\u001b[0m\n\u001b[1;32m    867\u001b[0m \u001b[0;34m\u001b[0m\u001b[0m\n\u001b[1;32m    868\u001b[0m     \u001b[0;32mdef\u001b[0m \u001b[0m__getitem__\u001b[0m\u001b[0;34m(\u001b[0m\u001b[0mself\u001b[0m\u001b[0;34m,\u001b[0m \u001b[0mkey\u001b[0m\u001b[0;34m)\u001b[0m\u001b[0;34m:\u001b[0m\u001b[0;34m\u001b[0m\u001b[0;34m\u001b[0m\u001b[0m\n\u001b[0;32m--> 869\u001b[0;31m         \u001b[0mkey\u001b[0m \u001b[0;34m=\u001b[0m \u001b[0mcom\u001b[0m\u001b[0;34m.\u001b[0m\u001b[0mapply_if_callable\u001b[0m\u001b[0;34m(\u001b[0m\u001b[0mkey\u001b[0m\u001b[0;34m,\u001b[0m \u001b[0mself\u001b[0m\u001b[0;34m)\u001b[0m\u001b[0;34m\u001b[0m\u001b[0;34m\u001b[0m\u001b[0m\n\u001b[0m\u001b[1;32m    870\u001b[0m         \u001b[0;32mtry\u001b[0m\u001b[0;34m:\u001b[0m\u001b[0;34m\u001b[0m\u001b[0;34m\u001b[0m\u001b[0m\n\u001b[1;32m    871\u001b[0m             \u001b[0mresult\u001b[0m \u001b[0;34m=\u001b[0m \u001b[0mself\u001b[0m\u001b[0;34m.\u001b[0m\u001b[0mindex\u001b[0m\u001b[0;34m.\u001b[0m\u001b[0mget_value\u001b[0m\u001b[0;34m(\u001b[0m\u001b[0mself\u001b[0m\u001b[0;34m,\u001b[0m \u001b[0mkey\u001b[0m\u001b[0;34m)\u001b[0m\u001b[0;34m\u001b[0m\u001b[0;34m\u001b[0m\u001b[0m\n",
      "\u001b[0;32m~/.local/share/virtualenvs/gnt-6jdCXtXx/lib/python3.8/site-packages/pandas/core/common.py\u001b[0m in \u001b[0;36mapply_if_callable\u001b[0;34m(maybe_callable, obj, **kwargs)\u001b[0m\n\u001b[1;32m    340\u001b[0m     \"\"\"\n\u001b[1;32m    341\u001b[0m \u001b[0;34m\u001b[0m\u001b[0m\n\u001b[0;32m--> 342\u001b[0;31m     \u001b[0;32mif\u001b[0m \u001b[0mcallable\u001b[0m\u001b[0;34m(\u001b[0m\u001b[0mmaybe_callable\u001b[0m\u001b[0;34m)\u001b[0m\u001b[0;34m:\u001b[0m\u001b[0;34m\u001b[0m\u001b[0;34m\u001b[0m\u001b[0m\n\u001b[0m\u001b[1;32m    343\u001b[0m         \u001b[0;32mreturn\u001b[0m \u001b[0mmaybe_callable\u001b[0m\u001b[0;34m(\u001b[0m\u001b[0mobj\u001b[0m\u001b[0;34m,\u001b[0m \u001b[0;34m**\u001b[0m\u001b[0mkwargs\u001b[0m\u001b[0;34m)\u001b[0m\u001b[0;34m\u001b[0m\u001b[0;34m\u001b[0m\u001b[0m\n\u001b[1;32m    344\u001b[0m \u001b[0;34m\u001b[0m\u001b[0m\n",
      "\u001b[0;31mKeyboardInterrupt\u001b[0m: "
     ]
    }
   ],
   "source": [
    "guide_residuals, model_info = gnt.get_guide_residuals(lfcs, ['CD81', 'HPRT intron'])\n",
    "guide_residuals.sort_values('residual_z')"
   ]
  },
  {
   "cell_type": "markdown",
   "metadata": {},
   "source": [
    "### Model info\n",
    "We can also look at the fit of the linear model for each guide, by considering its R<sup>2</sup>. A low R<sup>2</sup> can represent a phenotypically dominant guide."
   ]
  },
  {
   "cell_type": "code",
   "execution_count": null,
   "metadata": {},
   "outputs": [],
   "source": [
    "model_info.sort_values('R2')"
   ]
  },
  {
   "cell_type": "markdown",
   "metadata": {},
   "source": [
    "### Combining scores at the gene level\n",
    "We can then combine a statistic for a gene pair\n",
    "\n",
    "$(\\bar x - \\mu)/(\\sigma / \\sqrt{n})$\n",
    "\n",
    "Where $\\bar x$, $\\mu$, $\\sigma$ are the sample mean, population mean, and population standard deviation of residuals, and $n$ is the number of guide pairs."
   ]
  },
  {
   "cell_type": "code",
   "execution_count": null,
   "metadata": {},
   "outputs": [],
   "source": [
    "gene_scores = gnt.get_gene_residuals(guide_residuals, 'residual_z')\n",
    "gene_scores.sort_values('z_score_residual_z')"
   ]
  },
  {
   "cell_type": "markdown",
   "metadata": {},
   "source": [
    "## Other models: spline, fixed slope and quadratic"
   ]
  },
  {
   "cell_type": "markdown",
   "metadata": {},
   "source": [
    "There are options to implement different models for calculating residuals at the guide level, including spline, fixed slope and quadratic"
   ]
  },
  {
   "cell_type": "code",
   "execution_count": null,
   "metadata": {},
   "outputs": [],
   "source": [
    "spline_residuals, spline_model_info = gnt.get_guide_residuals(lfcs, ['CD81', 'HPRT intron'], model='spline')\n"
   ]
  },
  {
   "cell_type": "code",
   "execution_count": null,
   "metadata": {},
   "outputs": [],
   "source": [
    "spline_residuals.sort_values('residual_z')"
   ]
  },
  {
   "cell_type": "code",
   "execution_count": null,
   "metadata": {},
   "outputs": [],
   "source": [
    "spline_gene_scores = gnt.get_gene_residuals(spline_residuals, 'residual_z')\n",
    "spline_gene_scores.sort_values('z_score_residual_z').head(50)"
   ]
  },
  {
   "cell_type": "code",
   "execution_count": null,
   "metadata": {},
   "outputs": [],
   "source": [
    "merged_predictions = spline_gene_scores.merge(gene_scores, how = 'inner', on = ['condition' ,'gene_a', 'gene_b'], suffixes=['_spline', '_linear'])"
   ]
  },
  {
   "cell_type": "code",
   "execution_count": null,
   "metadata": {},
   "outputs": [],
   "source": [
    "merged_predictions.plot.scatter('z_score_residual_z_spline', 'z_score_residual_z_linear', alpha=0.4)"
   ]
  },
  {
   "cell_type": "code",
   "execution_count": null,
   "metadata": {},
   "outputs": [],
   "source": []
  }
 ],
 "metadata": {
  "kernelspec": {
   "display_name": "gnt",
   "language": "python",
   "name": "gnt"
  },
  "language_info": {
   "codemirror_mode": {
    "name": "ipython",
    "version": 3
   },
   "file_extension": ".py",
   "mimetype": "text/x-python",
   "name": "python",
   "nbconvert_exporter": "python",
   "pygments_lexer": "ipython3",
   "version": "3.8.3"
  }
 },
 "nbformat": 4,
 "nbformat_minor": 4
}
